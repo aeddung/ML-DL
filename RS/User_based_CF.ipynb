{
  "nbformat": 4,
  "nbformat_minor": 0,
  "metadata": {
    "colab": {
      "name": "User-based CF.ipynb",
      "provenance": [],
      "collapsed_sections": []
    },
    "kernelspec": {
      "name": "python3",
      "display_name": "Python 3"
    },
    "language_info": {
      "name": "python"
    }
  },
  "cells": [
    {
      "cell_type": "markdown",
      "metadata": {
        "id": "O_4e75CZOi2M"
      },
      "source": [
        "# 유저 기반 필터링 구현\n",
        "* 참고: https://skifree64.github.io/machine_learning/2019/11/25/collaborative-filtering.html"
      ]
    },
    {
      "cell_type": "code",
      "metadata": {
        "colab": {
          "base_uri": "https://localhost:8080/"
        },
        "id": "FfObdwh5FVRX",
        "outputId": "146c8296-dede-4be8-c69b-003b17c0c698"
      },
      "source": [
        "from google.colab import drive\n",
        "drive.mount('/content/drive')"
      ],
      "execution_count": 1,
      "outputs": [
        {
          "output_type": "stream",
          "name": "stdout",
          "text": [
            "Drive already mounted at /content/drive; to attempt to forcibly remount, call drive.mount(\"/content/drive\", force_remount=True).\n"
          ]
        }
      ]
    },
    {
      "cell_type": "code",
      "metadata": {
        "id": "KzPUb59eFb_i"
      },
      "source": [
        "base_dir = '/content/drive/My Drive/Colab Notebooks/RS/'"
      ],
      "execution_count": 2,
      "outputs": []
    },
    {
      "cell_type": "code",
      "metadata": {
        "id": "oyh9llxyFofh"
      },
      "source": [
        "import pandas as pd\n",
        "import numpy as np\n",
        "import re\n",
        "\n",
        "import matplotlib.pyplot as plt\n",
        "%matplotlib inline"
      ],
      "execution_count": 3,
      "outputs": []
    },
    {
      "cell_type": "markdown",
      "metadata": {
        "id": "-CodBe4NLuur"
      },
      "source": [
        "# 데이터셋\n",
        "*  Grouplens 사이트에서 만든 MovieLens 데이터\n",
        "* https://grouplens.org/datasets/movielens/latest/"
      ]
    },
    {
      "cell_type": "code",
      "metadata": {
        "colab": {
          "base_uri": "https://localhost:8080/"
        },
        "id": "fs_NFXDyFxZ1",
        "outputId": "87f11c3c-409b-4611-ca21-922a8a7d2db3"
      },
      "source": [
        "# 위에서 참고한 블로그 데이터와 약간 다름(Grouplens에서 제공하는 데이터셋 버전이 다양)\n",
        "movie_df = pd.read_csv(base_dir + 'movies.csv')\n",
        "rating_df = pd.read_csv(base_dir + 'ratings.csv')\n",
        "\n",
        "print(movie_df.shape)\n",
        "print(rating_df.shape)"
      ],
      "execution_count": 4,
      "outputs": [
        {
          "output_type": "stream",
          "name": "stdout",
          "text": [
            "(9742, 3)\n",
            "(100836, 4)\n"
          ]
        }
      ]
    },
    {
      "cell_type": "code",
      "metadata": {
        "colab": {
          "base_uri": "https://localhost:8080/",
          "height": 203
        },
        "id": "2dTpThzaGEP9",
        "outputId": "a22ffe8c-353c-4870-f632-f5df2b42f6cf"
      },
      "source": [
        "movie_df.head()"
      ],
      "execution_count": 8,
      "outputs": [
        {
          "output_type": "execute_result",
          "data": {
            "text/html": [
              "<div>\n",
              "<style scoped>\n",
              "    .dataframe tbody tr th:only-of-type {\n",
              "        vertical-align: middle;\n",
              "    }\n",
              "\n",
              "    .dataframe tbody tr th {\n",
              "        vertical-align: top;\n",
              "    }\n",
              "\n",
              "    .dataframe thead th {\n",
              "        text-align: right;\n",
              "    }\n",
              "</style>\n",
              "<table border=\"1\" class=\"dataframe\">\n",
              "  <thead>\n",
              "    <tr style=\"text-align: right;\">\n",
              "      <th></th>\n",
              "      <th>movieId</th>\n",
              "      <th>title</th>\n",
              "      <th>genres</th>\n",
              "    </tr>\n",
              "  </thead>\n",
              "  <tbody>\n",
              "    <tr>\n",
              "      <th>0</th>\n",
              "      <td>1</td>\n",
              "      <td>Toy Story (1995)</td>\n",
              "      <td>Adventure|Animation|Children|Comedy|Fantasy</td>\n",
              "    </tr>\n",
              "    <tr>\n",
              "      <th>1</th>\n",
              "      <td>2</td>\n",
              "      <td>Jumanji (1995)</td>\n",
              "      <td>Adventure|Children|Fantasy</td>\n",
              "    </tr>\n",
              "    <tr>\n",
              "      <th>2</th>\n",
              "      <td>3</td>\n",
              "      <td>Grumpier Old Men (1995)</td>\n",
              "      <td>Comedy|Romance</td>\n",
              "    </tr>\n",
              "    <tr>\n",
              "      <th>3</th>\n",
              "      <td>4</td>\n",
              "      <td>Waiting to Exhale (1995)</td>\n",
              "      <td>Comedy|Drama|Romance</td>\n",
              "    </tr>\n",
              "    <tr>\n",
              "      <th>4</th>\n",
              "      <td>5</td>\n",
              "      <td>Father of the Bride Part II (1995)</td>\n",
              "      <td>Comedy</td>\n",
              "    </tr>\n",
              "  </tbody>\n",
              "</table>\n",
              "</div>"
            ],
            "text/plain": [
              "   movieId  ...                                       genres\n",
              "0        1  ...  Adventure|Animation|Children|Comedy|Fantasy\n",
              "1        2  ...                   Adventure|Children|Fantasy\n",
              "2        3  ...                               Comedy|Romance\n",
              "3        4  ...                         Comedy|Drama|Romance\n",
              "4        5  ...                                       Comedy\n",
              "\n",
              "[5 rows x 3 columns]"
            ]
          },
          "metadata": {},
          "execution_count": 8
        }
      ]
    },
    {
      "cell_type": "code",
      "metadata": {
        "colab": {
          "base_uri": "https://localhost:8080/",
          "height": 203
        },
        "id": "AP__9aOmGG1z",
        "outputId": "f297a1f6-1765-4f6c-fc4c-8a3e0af63281"
      },
      "source": [
        "rating_df.head()"
      ],
      "execution_count": 9,
      "outputs": [
        {
          "output_type": "execute_result",
          "data": {
            "text/html": [
              "<div>\n",
              "<style scoped>\n",
              "    .dataframe tbody tr th:only-of-type {\n",
              "        vertical-align: middle;\n",
              "    }\n",
              "\n",
              "    .dataframe tbody tr th {\n",
              "        vertical-align: top;\n",
              "    }\n",
              "\n",
              "    .dataframe thead th {\n",
              "        text-align: right;\n",
              "    }\n",
              "</style>\n",
              "<table border=\"1\" class=\"dataframe\">\n",
              "  <thead>\n",
              "    <tr style=\"text-align: right;\">\n",
              "      <th></th>\n",
              "      <th>userId</th>\n",
              "      <th>movieId</th>\n",
              "      <th>rating</th>\n",
              "      <th>timestamp</th>\n",
              "    </tr>\n",
              "  </thead>\n",
              "  <tbody>\n",
              "    <tr>\n",
              "      <th>0</th>\n",
              "      <td>1</td>\n",
              "      <td>1</td>\n",
              "      <td>4.0</td>\n",
              "      <td>964982703</td>\n",
              "    </tr>\n",
              "    <tr>\n",
              "      <th>1</th>\n",
              "      <td>1</td>\n",
              "      <td>3</td>\n",
              "      <td>4.0</td>\n",
              "      <td>964981247</td>\n",
              "    </tr>\n",
              "    <tr>\n",
              "      <th>2</th>\n",
              "      <td>1</td>\n",
              "      <td>6</td>\n",
              "      <td>4.0</td>\n",
              "      <td>964982224</td>\n",
              "    </tr>\n",
              "    <tr>\n",
              "      <th>3</th>\n",
              "      <td>1</td>\n",
              "      <td>47</td>\n",
              "      <td>5.0</td>\n",
              "      <td>964983815</td>\n",
              "    </tr>\n",
              "    <tr>\n",
              "      <th>4</th>\n",
              "      <td>1</td>\n",
              "      <td>50</td>\n",
              "      <td>5.0</td>\n",
              "      <td>964982931</td>\n",
              "    </tr>\n",
              "  </tbody>\n",
              "</table>\n",
              "</div>"
            ],
            "text/plain": [
              "   userId  movieId  rating  timestamp\n",
              "0       1        1     4.0  964982703\n",
              "1       1        3     4.0  964981247\n",
              "2       1        6     4.0  964982224\n",
              "3       1       47     5.0  964983815\n",
              "4       1       50     5.0  964982931"
            ]
          },
          "metadata": {},
          "execution_count": 9
        }
      ]
    },
    {
      "cell_type": "code",
      "metadata": {
        "colab": {
          "base_uri": "https://localhost:8080/",
          "height": 220
        },
        "id": "uRl2qhkUGH95",
        "outputId": "c7524849-4e83-4317-80f3-8f5b2da42bae"
      },
      "source": [
        "rating_movie = pd.merge(movie_df, rating_df, on='movieId', how='inner')\n",
        "print(rating_movie.shape)\n",
        "rating_movie.head()"
      ],
      "execution_count": 5,
      "outputs": [
        {
          "output_type": "stream",
          "name": "stdout",
          "text": [
            "(100836, 6)\n"
          ]
        },
        {
          "output_type": "execute_result",
          "data": {
            "text/html": [
              "<div>\n",
              "<style scoped>\n",
              "    .dataframe tbody tr th:only-of-type {\n",
              "        vertical-align: middle;\n",
              "    }\n",
              "\n",
              "    .dataframe tbody tr th {\n",
              "        vertical-align: top;\n",
              "    }\n",
              "\n",
              "    .dataframe thead th {\n",
              "        text-align: right;\n",
              "    }\n",
              "</style>\n",
              "<table border=\"1\" class=\"dataframe\">\n",
              "  <thead>\n",
              "    <tr style=\"text-align: right;\">\n",
              "      <th></th>\n",
              "      <th>movieId</th>\n",
              "      <th>title</th>\n",
              "      <th>genres</th>\n",
              "      <th>userId</th>\n",
              "      <th>rating</th>\n",
              "      <th>timestamp</th>\n",
              "    </tr>\n",
              "  </thead>\n",
              "  <tbody>\n",
              "    <tr>\n",
              "      <th>0</th>\n",
              "      <td>1</td>\n",
              "      <td>Toy Story (1995)</td>\n",
              "      <td>Adventure|Animation|Children|Comedy|Fantasy</td>\n",
              "      <td>1</td>\n",
              "      <td>4.0</td>\n",
              "      <td>964982703</td>\n",
              "    </tr>\n",
              "    <tr>\n",
              "      <th>1</th>\n",
              "      <td>1</td>\n",
              "      <td>Toy Story (1995)</td>\n",
              "      <td>Adventure|Animation|Children|Comedy|Fantasy</td>\n",
              "      <td>5</td>\n",
              "      <td>4.0</td>\n",
              "      <td>847434962</td>\n",
              "    </tr>\n",
              "    <tr>\n",
              "      <th>2</th>\n",
              "      <td>1</td>\n",
              "      <td>Toy Story (1995)</td>\n",
              "      <td>Adventure|Animation|Children|Comedy|Fantasy</td>\n",
              "      <td>7</td>\n",
              "      <td>4.5</td>\n",
              "      <td>1106635946</td>\n",
              "    </tr>\n",
              "    <tr>\n",
              "      <th>3</th>\n",
              "      <td>1</td>\n",
              "      <td>Toy Story (1995)</td>\n",
              "      <td>Adventure|Animation|Children|Comedy|Fantasy</td>\n",
              "      <td>15</td>\n",
              "      <td>2.5</td>\n",
              "      <td>1510577970</td>\n",
              "    </tr>\n",
              "    <tr>\n",
              "      <th>4</th>\n",
              "      <td>1</td>\n",
              "      <td>Toy Story (1995)</td>\n",
              "      <td>Adventure|Animation|Children|Comedy|Fantasy</td>\n",
              "      <td>17</td>\n",
              "      <td>4.5</td>\n",
              "      <td>1305696483</td>\n",
              "    </tr>\n",
              "  </tbody>\n",
              "</table>\n",
              "</div>"
            ],
            "text/plain": [
              "   movieId             title  ... rating   timestamp\n",
              "0        1  Toy Story (1995)  ...    4.0   964982703\n",
              "1        1  Toy Story (1995)  ...    4.0   847434962\n",
              "2        1  Toy Story (1995)  ...    4.5  1106635946\n",
              "3        1  Toy Story (1995)  ...    2.5  1510577970\n",
              "4        1  Toy Story (1995)  ...    4.5  1305696483\n",
              "\n",
              "[5 rows x 6 columns]"
            ]
          },
          "metadata": {},
          "execution_count": 5
        }
      ]
    },
    {
      "cell_type": "markdown",
      "metadata": {
        "id": "hGht_WI-lWI_"
      },
      "source": [
        "# Train/Test split\n",
        "* 유니크한 유저는 610명 -> 각각 5개 이상의 리뷰를 남겼음을 확인\n",
        "* 8:2 비율로 나누어도 무방하다고 판단"
      ]
    },
    {
      "cell_type": "code",
      "metadata": {
        "colab": {
          "base_uri": "https://localhost:8080/"
        },
        "id": "jKHS0r40laXS",
        "outputId": "c20395c4-90d8-4e48-e7d8-193e1240f4e0"
      },
      "source": [
        "cnt = 0\n",
        "for user in rating_movie['userId'].unique():\n",
        "  review_per_user = len(rating_movie.loc[rating_movie['userId'] == user])\n",
        "  if review_per_user <= 5:\n",
        "    print(user)\n",
        "  else:\n",
        "    cnt += 1\n",
        "\n",
        "print(cnt) # 유니크한 유저 수와 동일"
      ],
      "execution_count": 6,
      "outputs": [
        {
          "output_type": "stream",
          "name": "stdout",
          "text": [
            "610\n"
          ]
        }
      ]
    },
    {
      "cell_type": "code",
      "metadata": {
        "id": "PgDziveNleYj"
      },
      "source": [
        "from sklearn.model_selection import train_test_split\n",
        "\n",
        "# 각 유저당 20%의 리뷰는 검증셋으로 구분하는 함수\n",
        "def train_test_sp(df, column): \n",
        "  train_df = pd.DataFrame()\n",
        "  val_df = pd.DataFrame()\n",
        "\n",
        "  for user in df[column].unique():\n",
        "    user_review = df.loc[df[column] == user]\n",
        "    train_tmp, val_tmp = train_test_split(user_review, test_size=0.2)\n",
        "\n",
        "    train_df = pd.concat([train_df, train_tmp])\n",
        "    val_df = pd.concat([val_df, val_tmp])\n",
        "\n",
        "  return train_df, val_df"
      ],
      "execution_count": 7,
      "outputs": []
    },
    {
      "cell_type": "code",
      "metadata": {
        "colab": {
          "base_uri": "https://localhost:8080/"
        },
        "id": "IY2Ac4OVlihM",
        "outputId": "08ff2787-d3be-4bdb-87cf-d20e4deb748d"
      },
      "source": [
        "Train, Val = train_test_sp(df=rating_movie, column='userId')\n",
        "print(Train.shape)\n",
        "print(Val.shape)"
      ],
      "execution_count": 8,
      "outputs": [
        {
          "output_type": "stream",
          "name": "stdout",
          "text": [
            "(80419, 6)\n",
            "(20417, 6)\n"
          ]
        }
      ]
    },
    {
      "cell_type": "code",
      "metadata": {
        "id": "KOAaXVbzGWDN"
      },
      "source": [
        "N_user = len(Train['userId'].unique()) # 댓글 작성자\n",
        "N_movie = len(Train['title'].unique()) # 영화 수\n",
        "\n",
        "data = Train[['userId', 'movieId', 'rating']]\n",
        "data = np.array(data)\n",
        "\n",
        "ratings = {i: {} for i in Train['userId'].unique()} # ratings = {userId: {movieId: rating}}\n",
        "for a, b, c in data:\n",
        "  ratings[a][b] = c\n",
        "\n",
        "neighbors = {} # neighbors = {userId: [sorted(userId, similarity)]}\n",
        "means = {} # {userId: mean of userId's ratings}\n",
        "for i in ratings: # i: userId\n",
        "  rat = 0\n",
        "  count = 0\n",
        "  for j in ratings[i]: # j: movieId\n",
        "    count += 1\n",
        "    rat += ratings[i][j]\n",
        "  means[i] = rat / count"
      ],
      "execution_count": 9,
      "outputs": []
    },
    {
      "cell_type": "markdown",
      "metadata": {
        "id": "Ikd4VWR1K5_6"
      },
      "source": [
        "## 코사인 유사도 공식\n",
        "\n",
        "![image.png](data:image/png;base64,iVBORw0KGgoAAAANSUhEUgAAAckAAABuCAYAAABMUeiTAAAgAElEQVR4Ae3dra8sS9UG8ONPgkWTkFyDQSGvwhL+AAwCgcHgcFgMFofDY3BgUSQYEhyKBEUwCBKSefMb3ueeunX7o3qm956e6bWS3v1VtarqqZ711FpV3fvDpaQQKAQKgUKgECgEJhH4MHm1LhYChUAhUAgUAoXApUiyHoJCoBAoBAqBQmAGgSLJGWDqciFQCJwPgf/85z+Xv//979eG/+tf/7r84x//uLhWcl4EiiTP2/fV8kKgEOgQ+O1vf3v5xS9+cfn9739/cfyrX/3qelxE2QF1otMiyRN1djW1ECgE5hHgOf74xz++/OxnP7v84Ac/uPz5z3++/OY3v7n89Kc//cK7nM9dd14VgSLJV+3ZalchUAhsQoC3+Mc//vFKkMiR8CaRJgItOScCRZLn7PdqdSFQCEwggAy/853vXP72t79diRFB/vrXv756kkWUE4Cd4FKR5Ak6uZpYCBQCYwiYi/ze9753TfyXv/zl8qMf/eg6R/mHP/yhvMkxCF8uVZHky3VpNagQKARuQeC///3v1Wv85S9/ec1uZatjc5J//etfb1FZeV4AgSLJF+jEakIhUAjsg8C///3viy3iWJgVgZacE4EiyXP2e7W6ECgECoFCYACBIskBkCpJIVAIFAKFwDkRKJI8Z79XqwuBUyNgUY6Vq96LNOfoeGmT5ic/+ck1vcU8f/rTn+7C72grZYWT57a7GvoCmYskX6ATqwmFQCGwDQFzjcjuw4cP1z3Sm9u8O5mPCnz++edf5NlW4qfUylHuUYjS6y7eB9XGbM5zzcref/7zn6edly2S/PTs1lEhUAicCAHeZEjP8YhY8eqzdbeSHG/tG9/4xuVrX/va3d7oSH1H0viykFW86qRd2ocsvR/Ke/72t799+e53v3sZxWikzGdKUyT5TL1VdS0ECoFdEeAtIQbEhQBHRfjVd123CuJR1te//vXDkGTagAh9SKEXniSM8mpMf//Vz4skX72Hq32FQCGwiEA8Q/OTox8y959CeFtbRFjThwp4Z0gHQd8q6rlE6kK5+W8mI2UgQuQNi15CkrcMCnpdz3heJPmMvVZ1LgQKgd0QMD/5/e9//0pcPL23EiRsfpNHhiTvIR0EKb9QaS/ao4wti4tSp/6jCcrxsXchV3U/oxRJnrHXq82FQCHwJQR4eYjrs88+u/5rrC/d3OHkd7/73XUVLVUJ8d4TvuRJ+oSesG9LXiFIXu6oV6xO8W7NO8ICWdKRFcDK2KJvB8gOo6JI8jBdURUpBAqBRyKAyBAlr3JLqHKtzrwxOrPwJeFLxNQLIholI4uAECUPldeIILPoZlSH8lM/86Q///nPrzro4UHCY8q7VpbyzyBFkmfo5WpjIVAIrCLA6Gd+Elkggj1EWLQlGl4Z8vEKSi9ZVTpadogS4f7whz+8eqlbCFL5iPab3/zmNURrcJCNRwkPodZ2/tTrIDzMLeHcvp3PdF4k+Uy9VXUtBAqBN0WAV2WVpwU2e3iTvEe6vGrCm7TRH4+1b0wIqr++dG6RDtKi8xbiynzk1PxmwtAGDa1oF7I8gxRJnqGXq42FQCEwhAAPDondQjZTBSAvYVx6s/H0EJpyWkHQti1CJ5LjgSoHGfeLb9b0hWCnyuZlqmtLkvQf5UMIa23b436R5B4olo5CoBB4egSELnl9yGYPoQe5TJFPT5I8M4twzAOasxyREGS7SlZeoVMe4IgoN55zT3zO1dO7k1kcJOwKI3Xdw9MeqeOj0xRJProHqvxCoBA4BAIIrfWY1io1t3AFeSFIc3kIzHmEF4lckM+3vvWtK/kIWyI3ac0tjnixdErfEmTKQGgW4bTl5l726q4uPNCPHz9e5x6RuTyuq38IMoMGHiTdykSSU+Qf/a+0L5J8pd6sthQChcBNCDD8Uwtp5pQhEqHIXhCe8CeP0KpTXpp0IVQLYcxLumeTLkTHSxslH0TbLqbp66HMJY/U/CNC5hXa1JPHiNidp149EWqH8Kyy06a+7Fc7L5J8tR6t9hQChcAmBBh8pLBFkN097zn2ZSEjXizPDgH2oc8+/aPOeZLInXepnmcgyiLJRz1tVe4hEGCMzN+c4cd+CMAPVgmhTR7kUmiyrTIyQ6pCkb2X1abbeiyUybPjpfECR+uztZx702s7kkTovNEz/G6KJO99air/0yLAEGV+Zc/l7EbbRtpzmzDYUT2Fp+3MGyrOyJsXZPgtYHHeb64jUn2mPxEZgrSKdE/xPCBHnuSe5LtnHekyoITXkYl87zYXSe6NaOl7GgQYQB919hK20NFewphmWb15HkaF8bMZgbsmVLcnMe9V97PoMUDiEVngkvcXzcU5zjxdzhGidMgxm74sOQcCRZLn6OdqZYcAI2mRBKNnPmrru2Wduq+cIka6sygjCZAx4+wej7PkMQjw3ODPIxrZeJLZpK9IwGP67RGlFkk+AvUq8+EIMJA8Op4DT2FvwgoR9h6q84Ts9i7z4aBWBQqBF0SgSPIFO7WatIyA5fu8Rx4BbxJZ7k1YXuj2n9574Y3wIoVjK9zao1PnhcDxECiSPF6fVI3eGAHL980NIkvH5iXNI+4lvMWEcem0AhAJC716H82+wnV7oX27Hn1v8xyMioUrBlciEGdY2TmKyyunK5J85d6ttn0FAXORvDzi2AIahGYOcS+xqINOhhQZ8xqFX72oPfqy+F51KT3zCOjzrXPR/psHYtW/RZLz2L7SnSLJV+rNassqAlYstp/9ygKbNZJEpuYuR76JmfnIfim/vMp/i4VCqw2vBLsh4DWRIsnd4Dy8oiLJw3dRVXAvBITJGLeprf1/f1Plmbf0GsAamcorrTJ6EWKNF7JneLcvp86XEfDqj0EPzz4DGSHXpa31Goskl/F9tbtf/SW/WgurPYXA/88LWkjTzwXG4K2RpHlGYdTWWE4Bm3cvpz5zxiDzMs2B7r1QaKoudW0aAQMd+JsfDkmaJ84cZb8XMtevkTwza89C0tf+uREoknzu/rur9n7koz906bYscLirYm+QmaHr31lUTAze1L1bqoFseZH9y+bwS2hXXWKcbymj8tyHgOcYEfqIhHlpsuRFutf+TvLMtNfuq1HlPjIChyBJD6Hl8PYl74MAj8poun+PL6UzHubQYggYdSHC3hNL+iPuPU88gCykUf88Y9qlfSE1i2zuaR9djCcPEkkiROfmP+GsHOE9i3ikLXkcAvre91r1dxbuCMU7n9va34lnaiqc/rgWVclvicAqSXo4/MhjXO6tTPRlBBdDZXSdB/beMuSnS71Tzh46X0UHTBhto+kpj4ZxT/iJsWdUkKNrtmfB1MBLOz1b2mofkvc8a1vuuW+e6lYC8/4jHdngRJ8t1+4h4Vd59o7QDn1sUGTwpJ883+wSmzG35bmJvUKS+vzW5+UIOFQdxhBYJUk/cg8EwtlDGKX8s1H6jMqM6vLQ7VEGHUb05n6MEFvxULejwvbeWY71pa++TP3AeT4WniAQx+38mfReYegxPQtu1c7XQMAgD0EaQE0NEpdaaQDptyFvfiNL6eve8yOwSpIeBMvWPRx7iIcLgbXL8LPq0MhsLzF6N1ps623EqPwzG3neFaIzgu7F4MFrDrkHLyRpYBNhXOpdv6BR+2dFQCRhr+jYs2JQ9R5DYJUkjbp4EAzmHjKlj2fz2WefLf4n7a1lp5w2HxLgQZ2ZJA1OrOprBynByMCCR5/QEiOCJJFixKDDoGmvyEL01r4QKAQKgSMi8AVJIg5egr0QqDAEY4kgGcaEKHkiiduHPOXhBSImIh8j6n4rdCZvG+aQ1qKG3pN0zvNTr1YXwpZfPW3Ks6ebtHVMvdWNLkbfXtrcs0+97OlDEMp0bp+2te15q2PlJaTTtjvlqVP6Sl17QYDumwODCzyINrnuNYR+0EOnMKtBRO5JjzQtNom0nqj7JYVAIVAIvDICV5IU/jT3yDALrQlTMrRIitfAy2NciTSMqbAcD8PGA2F45ZWOURWys8Ta/RhT15AhnfREkKR5ypYk6crcGP2OUwfEQJdrvCJzmspyTpd0ueeY0bfXDkY/9+hVt+jXJnVD+kgYDuqlbUjkrUVd1FO52gcDdUJ0Ef2kv6QLxq1X6H760n31z324wYreXqSFDfwiBg+utZ6keyk3g4ykr30hUAgUAq+GwAdGkXcVQQZIIYTFGPvSCO+LEbfFeCIongUSQiwMakso8rgWIy8vz8g1eiPq0HuSjLt0hBeHeJUXz0qZ0Y/k6POyuHooRzvkl4a4hpi11Z7OeIf2Sd96TTDgWSGXeFdXZc0f+hGZuq1tyLmdI23UXA95ftqQAYS9NoTUlKUvgrk6yYPYYYwM1aUldISbvkT86givXrRbWW1b9Iny2r6STz3oTV/0upx7RjIYWcNFmYi95D4EPMcGi2t4574+LCkECoFlBD4wsowjckNWCIERthH3E6JENBF5WkKR17XWoDp2LUZfXvr7dFMkyci2RpiOlkDoiv54SqmbPQJRTkjSNWShLSGNNr1jhMCwE+1HJm3d+/Q5nyPQ3M9+KZ228hAZrpbkYBMy1x6E2Iq2B+PgyAjqN/0FR5gTx9rYE5Ky6dX29Lv0SNLW9oPrcFdGW89rAd2fpfYmqTQj6dRL+xLa14dn2rTbACvPQvDr96N4jqTz/Hi+zor5mZ6vausne+J599zHLl1dNYaZoc3GiCbBEkkKu0UYMPnXSJKx69OFqHVUhDFQD6TGsNsLl7aktUSSfuDK6UmSrraclGcvrTzuIwZhxjWj1Oa/5xjhIClltvO10clTVLeeJOVDWKmrPjGYkNbGS0sbkCQce5KMDh5rPxDimfQCdzguecV9nnvPPSPw+fjx47V92nimTV8aRK0NTO7Fuc3vOczrWWfCutp6rt9W399+a2xq7OYHRtHGCDOebjKkIaP3IEkE285J8nwYRP/SKIZYfRhmBjoE7lhdk6b9gU+RpBGC9CFJo4UAkbwAQgzS9mSSNO2e0VK30a0vL7roQWjCu8isFe3N4KInSW3QJgSXfIwbbBhV7cmcYsKtfbsMCPS7QUJIEtnKG6za+tAt/ZLB1oejmEi3pKstu47nEdB3nttR3Kf6dl573SkEzonANdwaIwoChpZnyRCSliRDTq4zoK0nyVi75gcaoaO/NhVulUc6ZElioFMH1xhwZJD5R6Qhn2uZ80y59upKZ+tJMiBGDTEO2t2HEoWd5bPv77X6c6zd6juyIac5MtCezLu2pI/YUt+EP1O2vXvqq5+0T5voiiBK5Etc5xn0c5L6HPnCCm7Brg2nR5+9dJ6RJXz0s/aO4CKN+pfchwCS9JsZxVy6kkKgEFhG4APDKoTF2DN6jBVPCmExqgwdI8xgus+gMuKuhWSkYzhdY4ClQwa8m1xzLm+MejwfxlQe6fxopVEHXmPSIEHGHSGqm/TqkHwMA/3xguhI+Fe9EQ3RRh6rcrTbXvmtJKzZDhza+295rGwetHY7hqM2ZuCh/u47d08aaeN9ahMizX1peHzxHHmx9E21DU50wVF6JDjl9SJQ96XtsXtLbEp3IVAIFAKPQOADsmHwGE+bYySFcBBNrtszwq616REU492mY6SRZq5JLx2CTF57+kKmSSsv4yw9b45BRmbOpUEI6kdX8thLE6PeluOecxK9SMKGZHrRbkSkbu8tCAiWsEFaaVfIX33StuCo3ciQpB/cg1t0BJfkR4AGEq14DpJe3gws2jSOlcU71R+PlLb+8Gm953vqRU+Ld1tO9LblOTZYaPMk3S37try2nFt0VZ5CoBC4H4HrnCTj7AfJAO5lbO6v2v/Cg+oUI6+e99aPDgRAj2PCMCEJ4h4SyL3rxXf+o2x1ag1mXwW49ESmD23wkleaXlxDkgYavTD2vc4+DZLmnSLkR0rrDauzQdmowNdgbwpfgzQDt4iBQy8wzCBB2fJM6ZLPdWnaLdemnrG2XdJtaVdfz6OdwxV2Z96OHH3xPJ65b9J2v9X2t/nFF3eO9oN6z/rwvHiPhPf2SoapxxGJMvCMfwYffZq5cz9w+Ni25p3Teet14fiIh7sll1yf2yesjdx60bZ2ACB83UtC/a4rm+fdEmvSuycaom4iIPbtpiwRC30SadtF5xRJJ+0z7WFh8Gm65Kyb9j8iQjX6nBiUeV7P2j/arY/aqCTsiiSbhULAQZiPJoDRh/rWdH4M2jnlTS7p5EX6EU0RwlK+t7hnfjqylSR50pkDj47sEV5Lkhk85b79KEmKVjCKPG/19XzxYLPB0mtN+iEj175dr0KScPXMabvn6IybZ8GzelTJlNYZ+6Zts993O3Atkvz/DxwAxnZvOPeoP4C+XrwpRnuU8Py4GTkEEoPe63zP855MRj1JhgBB2rSnlz1Jkm4/NkQ7FcLnyfIckWUGZn27XoUktX/0Wev7pM7fBwG/oXaA+D6lHr+UIsnj99Gb1BDRGRDEOK8VIl0fq1/L85b3ezIZJUmkhJyQ5BQB7U2ScJsrS1jfPXVPP/TtmqrjW+L6VrqtKi85NgIiLGdxErb0RJHkFrQq7WEQ6MlkhCSlQUwhLvOEvexNkkKpiDALfVIez5xRQtqth9W361VIsp1rDQa1PxYCnscM1o5Vs8fWpkjysfhX6Tci0JPJGkkKLyMrEpL07m0ve5MkIlZX5Jz5OGXMfV2pb9crkKR2WxRRclwE/D48a+1c3HFr+741K5J8X7yrtJ0Q6MlkjSQtnsmiifckSV948nlF85+MkA05qw/vsh+59+16BZK0iveVV4zv9Eg/VI1n0eCtSPKr3VAk+VVM6soTINCTyRJJMgA8Oq+w2KzuFf7zKb4QZ5q8pyfJ4GTOMfqzz7yourWGqW/XK5CkQQFvcklgoG+yd9wPIJby1737EDCIs8JzSdI3+sV2lj4qklx6KureYRHoyWSOJC1EsLKSoc77X855eLy5dj5QY/ckSQSIJK0i7oVB8g6mulgQFenb9Qok2bYp7Wz3jC1P0+sw2mvTn1PvqLb56ng/BKywbp/DXjNSNL9umsBvSXTAwNPKbf33ylIk+cq9+8Jtaw0vb3COJI2QkVUvyMkPvl/yvidJKoPHar6nF6SAQJXXekx9u56dJK2iRn5L4tUrGOlDmzy8/cwhL+Wte/cjAO81kvQbEw0w4JPW4NMAU9+++orYIsn7n7HS8AAEejKZIkk/aqPe/kfMKPAq6ei/urMnSTLy+Q8sgUjISr2sJHSv92T7dj07SRqEGCwsif6Ix48wiX7g6Ze8PQIZoPS/k75knqbnMR8hMfj0HC95oL2OZzwvknzGXqs6XwkuMPSeJOLhqSEhhrb9oo0fdEJ7SEzICGnFm7uXJIWeEG9CrRbt5NyefoZFuVMfZng1koSDNq9JBg6ZI9ZvvlDTD2LW9NT97QjkucxvYE6DAYwBj74iBqb612ag86pSJPmqPfvi7erJpPUkjYwRYX7AjC0PjgjjtfekMT8YA7EHSdLZluE4W8qbG3337Xp2T1JoLt7h0iMpjKet8WaEqRlvc18lb4uAZ95vYI3o/I4M7jKQEaXRb7a1vG/bgrfVXiT5tviW9jdCoCeTliTvKfJekrynbHn7dj07SfLmMwBZwob3b4ux5a0gV4OakrdFwDPWh/2nStQXBqAZcOof0ZAMbKbyvMK1IslX6MUTtqEnkyLJYz4ESDJG9Zg1PHet9I3fzghJnhWpIsmz9vyTt/utSFJ4r13xOvUaghF0woBCT473MjJ9u57Zk4SJ8Fy8wyd/5F6y+p5fK8DLY5/v3iLJeWzqzoER8CGAiB94SCvXbt2bM2wJz5xaL0JO5mGIss2d7WVk2naFgPvyn+XcPGw/X8VzgZ+ByOhmUJJtbi53DpPMn83dv/X6Wj08Q+1c963lvHU+84z6qX/XUf1H+0e69I/91t/CGpa3YqDvlwZoytX+tWekSPLWHqh8D0WgD+Et/Ri2VLTX05cTXW269jj3b9335e2p+9Y63ZpPGC8rIaODYfJunY85WOXLU5au31yXzmYVcrYtg6EsKknZa3vpRw22tFNevvlXAy1z2zw09UciRxXtMMjrnzv/tSUf3JjrI30mnC5t+ufjx4+bvtMLqy19ugVHz57FRVNz4olyKN/A1EChxyBlFUkGidoXAoXArgggwalFHTwsRtXrBGujeBUyUGDM5WHQeKJrIv3a+5mtDoaa/i2E5jUVxrUVnpQ6aiOh98jvEqpfP5BRbyQCDyToeESQLZL02tOUzl4Hgpr67zC82vSHOkxt+nakXgYriLIlQPrlN4ghXhFTj/RZX88iyR6ROi8ECoFdEPDBhimSNLJnvBg/xrA1YEsF8/IQDuO6JMJ9dE95EFP5GE3peU5bSDL57CNIn4cljEeQtXnmkcFAdLznvl/N3ZYNZ7gglFEs5W8JqNXXHtNH95Lnri989q5/RpJXf42EdhF9+8x43gxutJ0gdOUUSbY9VMeFQCHwpggwcMiiJZC2QMaNMWUoWwPWppk6phfxLIWh6bVgaFTMOydk2HuGazqUNRV2lY8xVw9Gfo1kltqTOoykSdqRPU8MUcwRODLhhekjXtdo+fpc3y8Nfuhr59+n6sszVfaUVwpX9zwLa+L5QoJz4r7B15xnWp7kHHJ1vRAoBG5GgOFhwJYMJeNn9TCCmjKEU4XTxwgv6WU857yCXiePD0nGsx0xuq0O+YXqegJRP4SLLKa86VaHY2mEaucGFe6PtqnXPXdOn3YveXMGMzyxfDlqTld7HRbqO9dH7ut3JLgk+gK2cOmFd+7eiOevLp6JKT3yGwgsYVsk2aNf54VAIXA3ArwnBNKTR6uYEUWmDBjPYCR01uafOmbs6Jsz0G0e3h1vhidlXko+9d4iCf0lvCqvslsC0q41T5IhRwqItU/rHm8VVnsKfbY1rLQlC61G5oPX6mhABGvtmhN9IlzPU2+fC3lghCATLp3T0V43EMscZK4rQ/sRpcHJ3AClSDKI1b4QKAR2QwDpzYXx2kJCACGoniDatCPHSI5BHxGkFM8x5Dr1ys+aLotVosegAAkgNcQrhOe4NfRz+mARoozBlu8tCFIdkI12r4k+US99xDNe8jzXdLmPmPTRUl/DELFlDhqWPE/P1dL84Vz5yJZHHIEr0tSuhJ3nohlFkkGt9oVAIbALAozfFs+QkWLEGGHGcMn7XKtgjOhaOh4RQow3g9CVz3vpRf0Y0DmjLvSHyAjjqw4MMgNv717K6XX35y1RqiNDvhaW7HWMnPMeEcQISdKHGLULRvLNYTFSNg9Q+HZJRzz7tD9eL2Ln/bvfCtz00RyB6wOkS7Q93qjnziplfTUVjpW+SLJFuo4LgULgbgTiPc0ZrKkChCszPzlKKFN6GLylRRryIGHGl7Fl8BlMewTAWPaCpBjpOaMu9BcPlAfIWCMfm3Yhu7WQZlumctQPwb4FQSrLoIDXPUcMbX1yLC3MvPu5JV/yZ88bhdkcJiFwaaa8O32kr9r5SO1BvnPRC22Vh+h/9U8f2dM1179Fkum52hcChcAuCBjlI52EDEeUMoyIxoh/zliN6BnxJBEXQ82oZgtJItletGOpLS1J9nlvOWfAebQWlGydIx0tD/lo+0gYODqRC5zUa0u+5M9em5Y8SUTHw7MZcPWSFbcGLhF1M7iaI96WJJNndF8kOYpUpSsECoErAkhwyUgyvoiI4RoVOnlPS3pHdNHB05kThhRB8h6QcTbG1dxiO28lLU8OMcx5KMppw61z5Y5e59EgB3ggZmVr01bRviUs6W9JZkQ/8obdPV6kcnjuQp9zgyEYGHh4jnrSc56vMIVApZd2yutMu9QbMd8iRZK3oFZ5CoETI4AUGOE5YdQZrlFh3BixPVZOMsAJq02Vj3Sk6Y2vtNol5BtCVC9tCalO6XNNefTeK8hHKBGBRdSTbh7yFuERL5FgQsijOmEChyUiGtWlfTBbIkn3+1AzLDIvqg+JkL4+0tYlrxuuU1GCkToXSY6gVGkKgULgigDDtUYKQqaj3gbjy/Atke4W6HlP6heik5dxVe94IO4z1PF0eb0MqOs2RMngMuLS8ezmSF858txLHsGhJ4a0nac0SpQIg1eM1KYEHkhmrqw+D48WEYWY+vtbzxEbry6eoPz6Aobmkw1WYKq/9Eu29I/+imiLfLBZql880+Tbsi+S3IJWpS0ETo5ADBXimBLGHsG0JDWVzrWEPkeNtTwMK2O4NEeojq1OBlg+xhUZ2ys7glhzz31b6q8s7WGMpwQh3RrGm9J37zVtzcKWuQVM2rsWnkw9tJsnu+SlJW32+kb6FuPcyx7xqUMr6mVQkr6wz+b6nOepb+lrSbfVqy89E+nT9t7IcZHkCEqVphAoBK7GEvkwOIzSlDBmjOqSgZSPIWUkl0b/vX5G1IKWtdAmne3cYq9n9JxRtZhIedo9ZYRhsVaf0fL2SKft6sobVrcp4eXDHp5LgnANAkQGRgWRSb/m9SI/dbxXkHjqyNv3/PWiLnODuj7t1Pk0ilMp61ohUAicGoF4E4zvnJcSI83Azol7DDljikydM3a29tg5o4tQEZRVjRZ8jIRm1Y8hvkeQpDYzslPhVteEBo8kcIVbvMmpfoAfkpRuSYQx6UGmbb+0x20fCaPqU6HeEeyn3ndcqs/UPeUjSbrs+zapk2fhVi9SmUWSU8jXtUKgEJhFgBeJHKbm4RjfJRJjYBlQhjTzXDyxbIw8os25ebUYfOSMsJZCram0RUC8zjWPNunn9sqa8rgYX57QFHnO6XrP63CC15RnFW9/qT4GJfJP9REysqWPpIG19DbPR09WU2WFwKbwnUo/d80zRUcfjnWeSMBc3pHrRZIjKFWaQqAQ+AIBRhHJIbRWGCskOUWeSZcwK/Kb2hj3/jrvJNuU0Y/ufo+s+zr2aW49RxIj3tKt+u/NZ6CBsBBZK8gLJuq/JPqx74e18/SRskclXu1o+i3pPIfqMkLYS3qLJJfQqXuFQCHwFQQYWTEBIDcAAAQeSURBVAY44dck4H24NjV3lzS1fx8EELg+EqJuhfeGOJcGMm36Oq5waz0DhUAhsBEBoa0pA8wrQJL3hs82VqeSTyAgzOwj4v2cqQGMSEANZCZAm7lUnuQMMHW5ECgEphEQVkWS5gpbSRhvLbzFmzGXR89WQcBFwmOoWeSkn1qxshVJrvWR+bylueVWZ3+MgO9ZKNPre/T5lxF8dG2q/EKgEDg8AsiNh2KBRktY5rnW5gzllaYP1S41Wh6GVx7zXhUqXELr0z0rPpFk20cGJyPYI9Otr03k1RLzymtznp9qefyjIsnj91HVsBA4FAJIiwH1RZQsXuF5mOvK+VKF51aMruXh2ZhjGyljSddZ7hlQIMksXuI9jqxshY+0W71BIV5EaaXrlsU7R++PIsmj91DVrxA4IAJWP1rhGo+BQRXGW3olIl4ko90v1x9pIo+Il1IkOYLW5UqOSDIrXJGYflvz9g1GkmespE+pkKs+KpL8hEkdFQKFwAkREPJkgBEjSaitDe31sIRIeTiIMp6Nc3qmttagy18k2aM6f65P9FHCpvoG1ksfkkekCWuHKPX1Uh8ZKBkAkSLJ+f6oO4VAIXAiBBhTBhhpkYTxYiynoOABIjpfQLllUUiR5BSqy9f0Ub6OBD9ktyTx0uXL8VL6/l6RZI9InRcChcApETCv6D8rmH8iSDKh1yVAeJDxbKRDqgyr/dwWfRVuDRLje31kkRVsLX7KoGZJg5A5kiTpk9E+KpJcQrbuFQKFwGkQMKdodauNUUWQWSAyB4I8XhsRzotXaS/M6lq/ud4SLyOPlNfKmSv/jNf1D6IUMuW9w3hN5IG9gQ/M9e9aHyFTYvC0x6fg1ur4nvdr4c57ol1lFQIvggDC85ky7+KZu7JQY+3VDHmsTkVyW4iOARYqVAYvlME2r8ZrKVlGACnyCi3Ygd8I7jBO+HxZ+5fvev+VfvmFdZGrPn92KZJ89h6s+hcCD0AAcTGIvuqC+BjhpUU7qSLPhAHeIiFJRld+C1LsiyTXUcwCK31kcDHSR9K0Hvx6Kf9LgSSVp28MYvQTz/LZpUjy2Xuw6l8IPAiBrJ70viRvMiG3B1Wnip1AIAus9NHIfOSEitNfKpI8/SNQABQCtyHA4xDKs73Se3G3oXHcXOkj4fGS7QgUSW7HrHIUAoXA5XIRXvN6gdWTI3NdBdpjENBHPvwgJF6yHYEiye2YVY5CoBC4XK7/0Ngijc8//3x10U4B9jgErDY1kNk6F/y4Gh+r5CLJY/VH1aYQeBoErFy0etJrHVaflhwTAaFwq5BHFu0cswWPrVWR5GPxr9ILgadGwGpGnkrJcRGw2hRJltyGQJHkbbhVrkKgELhcrt5JzUce+1Hwqky+w3rsmh6zdkWSx+yXqlUhUAgUAoXAARD4P10oLbv/xZoIAAAAAElFTkSuQmCC)"
      ]
    },
    {
      "cell_type": "code",
      "metadata": {
        "id": "m2yFrVH_JRTr"
      },
      "source": [
        "# 유저들(2명) 간 코사인 유사도 계산\n",
        "def sim_user(user1, user2):\n",
        "  # 두 유저의 평점을 저장할 리스트\n",
        "  rating1 = []\n",
        "  rating2 = []\n",
        "  \n",
        "  # 두 사람이 모두 본 영화만 리스트로 저장\n",
        "  for movie_id in ratings[user1]:\n",
        "    if movie_id in ratings[user2]:\n",
        "      rating1.append(ratings[user1][movie_id])\n",
        "      rating2.append(ratings[user2][movie_id])\n",
        "    \n",
        "  if len(rating1) == 0:\n",
        "    return 0.0\n",
        "  \n",
        "  for x in range(len(rating1)):\n",
        "    # 각 평점에서 평점의 평균을 빼준다.\n",
        "    rating1[x] = rating1[x] - means[user1]\n",
        "    rating2[x] = rating2[x] - means[user2] \n",
        "\n",
        "  vec = ((np.linalg.norm(rating1)) * (np.linalg.norm(rating2))) # 두 유저 평점 각각의 표준편차(L2 norm) 곱하기\n",
        "\n",
        "  if vec != 0.0: # 분모가 0이 아니라면\n",
        "    sim = np.dot(rating1, rating2) / (vec) # 코사인 유사도 계산\n",
        "  \n",
        "    return round(sim, 4) # 소수점 아래 4자리까지 계산후 리턴\n",
        "\n",
        "  else:\n",
        "    return 0.0 # 분모가 0이면 계산할 수 없음"
      ],
      "execution_count": 10,
      "outputs": []
    },
    {
      "cell_type": "code",
      "metadata": {
        "id": "x6fuwZRSLJfr"
      },
      "source": [
        "# 모든 유저들 간 유사도 계산\n",
        "def calculate_similarity():\n",
        "  for i in Train['userId'].unique():\n",
        "    nei = []\n",
        "    for j in Train['userId'].unique():\n",
        "      if i != j: # 서로 다른 유저일 경우만\n",
        "        nei.append((j, sim_user(i, j)))\n",
        "                  \n",
        "    # 유저간 similarity 기준 내림차순으로 정렬            \n",
        "    nei.sort(key=lambda x: x[1], reverse=True)\n",
        "    neighbors[i] = nei"
      ],
      "execution_count": 11,
      "outputs": []
    },
    {
      "cell_type": "code",
      "metadata": {
        "colab": {
          "base_uri": "https://localhost:8080/"
        },
        "id": "kfW1x7iwLaDC",
        "outputId": "c0051cc0-2162-4801-fb15-486f23cf4580"
      },
      "source": [
        "calculate_similarity()   # 모든 유저간 유사도 계산해서 저장\n",
        "print(len(neighbors[2])) # 유저2와 비교되는 다른 모든 유저들 수\n",
        "print(neighbors[2])"
      ],
      "execution_count": 12,
      "outputs": [
        {
          "output_type": "stream",
          "name": "stdout",
          "text": [
            "609\n",
            "[(1, 1.0), (5, 1.0), (19, 1.0), (33, 1.0), (43, 1.0), (82, 1.0), (144, 1.0), (145, 1.0), (155, 1.0), (160, 1.0), (193, 1.0), (213, 1.0), (216, 1.0), (240, 1.0), (341, 1.0), (359, 1.0), (399, 1.0), (468, 1.0), (524, 1.0), (597, 1.0), (51, 1.0), (221, 1.0), (299, 1.0), (426, 1.0), (563, 1.0), (552, 1.0), (14, 1.0), (262, 1.0), (11, 1.0), (244, 1.0), (313, 1.0), (34, 1.0), (301, 1.0), (361, 1.0), (387, 1.0), (520, 1.0), (187, 1.0), (427, 1.0), (379, 1.0), (115, 1.0), (36, 1.0), (260, 1.0), (267, 1.0), (375, 1.0), (316, 1.0), (13, 1.0), (129, 1.0), (505, 1.0), (29, 1.0), (329, 1.0), (338, 1.0), (454, 1.0), (491, 1.0), (164, 1.0), (494, 1.0), (168, 1.0), (285, 1.0), (37, 1.0), (101, 1.0), (407, 1.0), (172, 1.0), (190, 1.0), (333, 1.0), (143, 1.0), (598, 1.0), (496, 1.0), (376, 0.9903), (280, 0.9873), (306, 0.9214), (460, 0.9104), (125, 0.8348), (223, 0.8279), (428, 0.8232), (246, 0.7845), (93, 0.7646), (405, 0.7592), (45, 0.7359), (226, 0.7359), (471, 0.7359), (196, 0.7359), (91, 0.7334), (200, 0.7298), (490, 0.7168), (326, 0.6968), (137, 0.6912), (416, 0.6872), (393, 0.6729), (184, 0.6335), (596, 0.6334), (332, 0.5784), (351, 0.5771), (261, 0.565), (381, 0.538), (475, 0.4941), (434, 0.472), (209, 0.4638), (606, 0.4574), (567, 0.4445), (77, 0.4427), (189, 0.4325), (227, 0.4314), (528, 0.4247), (378, 0.4242), (111, 0.3984), (514, 0.3874), (560, 0.38), (60, 0.3756), (354, 0.3636), (68, 0.3445), (222, 0.3429), (445, 0.3326), (308, 0.331), (564, 0.3061), (357, 0.3038), (573, 0.3007), (424, 0.2945), (610, 0.2939), (495, 0.2914), (523, 0.2892), (537, 0.2719), (370, 0.2679), (122, 0.2678), (585, 0.2584), (52, 0.2464), (25, 0.2431), (319, 0.23), (275, 0.2264), (380, 0.2188), (249, 0.2005), (282, 0.1735), (42, 0.1722), (241, 0.169), (466, 0.1643), (322, 0.1638), (47, 0.147), (365, 0.147), (561, 0.1433), (363, 0.1365), (461, 0.1324), (116, 0.1272), (153, 0.1236), (509, 0.1074), (76, 0.0987), (292, 0.0913), (65, 0.0836), (339, 0.0657), (601, 0.047), (152, 0.0422), (551, 0.0402), (517, 0.0339), (10, 0.0332), (487, 0.0322), (417, 0.02), (441, 0.0051), (317, 0.0042), (27, 0.0), (31, 0.0), (32, 0.0), (44, 0.0), (46, 0.0), (71, 0.0), (78, 0.0), (90, 0.0), (96, 0.0), (124, 0.0), (134, 0.0), (151, 0.0), (167, 0.0), (185, 0.0), (201, 0.0), (206, 0.0), (214, 0.0), (217, 0.0), (234, 0.0), (266, 0.0), (269, 0.0), (270, 0.0), (273, 0.0), (276, 0.0), (277, 0.0), (291, 0.0), (293, 0.0), (347, 0.0), (350, 0.0), (364, 0.0), (372, 0.0), (385, 0.0), (389, 0.0), (412, 0.0), (451, 0.0), (456, 0.0), (469, 0.0), (470, 0.0), (492, 0.0), (500, 0.0), (504, 0.0), (529, 0.0), (544, 0.0), (579, 0.0), (584, 0.0), (587, 0.0), (604, 0.0), (605, 0.0), (8, 0.0), (20, 0.0), (104, 0.0), (149, 0.0), (259, 0.0), (294, 0.0), (321, 0.0), (395, 0.0), (446, 0.0), (458, 0.0), (482, 0.0), (501, 0.0), (527, 0.0), (592, 0.0), (594, 0.0), (100, 0.0), (150, 0.0), (289, 0.0), (302, 0.0), (368, 0.0), (120, 0.0), (147, 0.0), (181, 0.0), (402, 0.0), (521, 0.0), (23, 0.0), (79, 0.0), (109, 0.0), (286, 0.0), (297, 0.0), (312, 0.0), (553, 0.0), (95, 0.0), (188, 0.0), (257, 0.0), (510, 0.0), (26, 0.0), (59, 0.0), (136, 0.0), (173, 0.0), (174, 0.0), (192, 0.0), (208, 0.0), (235, 0.0), (243, 0.0), (349, 0.0), (485, 0.0), (531, 0.0), (569, 0.0), (35, 0.0), (113, 0.0), (345, 0.0), (530, 0.0), (571, 0.0), (61, 0.0), (303, 0.0), (310, 0.0), (311, 0.0), (369, 0.0), (377, 0.0), (429, 0.0), (342, 0.0), (479, 0.0), (518, 0.0), (591, 0.0), (108, 0.0), (118, 0.0), (253, 0.0), (440, 0.0), (576, 0.0), (3, 0.0), (39, 0.0), (146, 0.0), (271, 0.0), (142, 0.0), (255, 0.0), (394, 0.0), (430, 0.0), (457, 0.0), (507, 0.0), (12, 0.0), (224, 0.0), (9, 0.0), (467, 0.0), (545, 0.0), (250, 0.0), (536, 0.0), (75, 0.0), (110, 0.0), (403, 0.0), (540, 0.0), (48, 0.0), (194, 0.0), (371, 0.0), (309, 0.0), (568, 0.0), (595, 0.0), (74, 0.0), (87, 0.0), (355, 0.0), (384, 0.0), (539, 0.0), (225, 0.0), (450, 0.0), (546, 0.0), (558, 0.0), (465, 0.0), (207, 0.0), (478, 0.0), (92, 0.0), (508, 0.0), (128, 0.0), (165, 0.0), (183, 0.0), (344, 0.0), (439, 0.0), (463, 0.0), (397, 0.0), (406, 0.0), (383, 0.0), (315, 0.0), (431, 0.0), (538, 0.0), (245, 0.0), (238, 0.0), (554, 0.0), (218, 0.0), (55, 0.0), (158, 0.0), (53, 0.0), (138, 0.0), (281, 0.0), (180, 0.0), (516, 0.0), (127, 0.0), (575, 0.0), (499, 0.0), (442, 0.0), (324, 0.0), (157, 0.0), (175, 0.0), (392, 0.0), (547, 0.0), (388, 0.0), (556, 0.0), (358, 0.0), (578, 0.0), (481, 0.0), (236, 0.0), (163, 0.0), (360, 0.0), (535, 0.0), (103, -0.0014), (300, -0.0023), (348, -0.0084), (17, -0.0087), (583, -0.0217), (526, -0.0217), (331, -0.0279), (599, -0.0317), (177, -0.0338), (525, -0.0377), (274, -0.0396), (543, -0.0434), (448, -0.0435), (41, -0.0464), (231, -0.0548), (21, -0.0572), (408, -0.0594), (462, -0.0602), (328, -0.1013), (600, -0.1063), (112, -0.1093), (489, -0.121), (203, -0.1292), (586, -0.1312), (330, -0.1346), (272, -0.1394), (432, -0.1467), (477, -0.1515), (298, -0.173), (83, -0.1748), (211, -0.1782), (433, -0.1785), (73, -0.1852), (352, -0.1859), (50, -0.1883), (219, -0.1907), (582, -0.1957), (159, -0.1985), (522, -0.2), (382, -0.2024), (230, -0.2039), (16, -0.2042), (295, -0.2087), (590, -0.2091), (140, -0.212), (438, -0.2251), (131, -0.2264), (154, -0.2264), (608, -0.2305), (62, -0.2337), (480, -0.2374), (166, -0.2513), (141, -0.2641), (239, -0.2696), (307, -0.2722), (562, -0.2771), (419, -0.2785), (435, -0.2788), (443, -0.2818), (418, -0.2849), (86, -0.2912), (263, -0.2912), (304, -0.2912), (367, -0.2912), (572, -0.2912), (251, -0.2912), (472, -0.2912), (519, -0.2912), (22, -0.2966), (318, -0.3024), (237, -0.3027), (356, -0.303), (532, -0.3034), (233, -0.3103), (80, -0.3112), (483, -0.3165), (515, -0.33), (305, -0.3391), (334, -0.3434), (28, -0.3577), (288, -0.371), (204, -0.3796), (254, -0.3808), (63, -0.3817), (279, -0.384), (119, -0.3847), (362, -0.3917), (105, -0.397), (346, -0.4012), (425, -0.4015), (247, -0.4216), (414, -0.4252), (459, -0.4272), (132, -0.4408), (464, -0.445), (232, -0.4486), (88, -0.4493), (123, -0.4513), (57, -0.4718), (66, -0.481), (400, -0.495), (256, -0.4965), (391, -0.4974), (220, -0.5041), (139, -0.5048), (64, -0.5217), (182, -0.5219), (205, -0.5244), (169, -0.5417), (30, -0.5442), (215, -0.5452), (593, -0.5504), (497, -0.5548), (212, -0.5576), (413, -0.5628), (15, -0.5669), (570, -0.5808), (98, -0.598), (18, -0.6172), (484, -0.6182), (511, -0.6338), (550, -0.6339), (534, -0.6447), (195, -0.6514), (24, -0.669), (296, -0.6912), (49, -0.6912), (603, -0.7279), (474, -0.7316), (366, -0.7629), (199, -0.7652), (453, -0.7655), (67, -0.8063), (327, -0.8109), (323, -0.8206), (542, -0.8372), (415, -0.8476), (420, -0.8917), (320, -0.9193), (290, -0.9367), (580, -0.941), (198, -0.958), (581, -0.9686), (506, -0.981), (503, -0.9812), (7, -1.0), (40, -1.0), (54, -1.0), (89, -1.0), (107, -1.0), (121, -1.0), (130, -1.0), (135, -1.0), (156, -1.0), (161, -1.0), (171, -1.0), (178, -1.0), (179, -1.0), (186, -1.0), (191, -1.0), (202, -1.0), (229, -1.0), (252, -1.0), (264, -1.0), (283, -1.0), (314, -1.0), (336, -1.0), (337, -1.0), (353, -1.0), (373, -1.0), (396, -1.0), (401, -1.0), (411, -1.0), (422, -1.0), (436, -1.0), (476, -1.0), (488, -1.0), (533, -1.0), (541, -1.0), (555, -1.0), (559, -1.0), (607, -1.0), (609, -1.0), (6, -1.0), (94, -1.0), (117, -1.0), (284, -1.0), (447, -1.0), (512, -1.0), (566, -1.0), (602, -1.0), (58, -1.0), (102, -1.0), (410, -1.0), (588, -1.0), (84, -1.0), (162, -1.0), (170, -1.0), (437, -1.0), (325, -1.0), (386, -1.0), (444, -1.0), (486, -1.0), (493, -1.0), (577, -1.0), (498, -1.0), (513, -1.0), (56, -1.0), (81, -1.0), (99, -1.0), (176, -1.0), (248, -1.0), (340, -1.0), (452, -1.0), (557, -1.0), (38, -1.0), (404, -1.0), (455, -1.0), (287, -1.0), (565, -1.0), (4, -1.0), (242, -1.0), (265, -1.0), (589, -1.0), (268, -1.0), (72, -1.0), (133, -1.0), (398, -1.0), (449, -1.0), (126, -1.0), (70, -1.0), (409, -1.0), (502, -1.0), (574, -1.0), (69, -1.0), (197, -1.0), (228, -1.0), (278, -1.0), (335, -1.0), (343, -1.0), (85, -1.0), (473, -1.0), (548, -1.0), (421, -1.0), (423, -1.0), (374, -1.0), (390, -1.0), (549, -1.0), (210, -1.0), (114, -1.0), (106, -1.0), (258, -1.0), (148, -1.0), (97, -1.0)]\n"
          ]
        }
      ]
    },
    {
      "cell_type": "markdown",
      "metadata": {
        "id": "V5AikoDlOWyw"
      },
      "source": [
        "## KNN with Means 공식\n",
        "![image.png](data:image/png;base64,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)"
      ]
    },
    {
      "cell_type": "code",
      "metadata": {
        "id": "RtZeS8HYLnG-"
      },
      "source": [
        "# 아직 평점을 매기지 않은 영화에 대해 평점 예측\n",
        "def predict_rating(user_id, movie_id):\n",
        "  rating = 0\n",
        "  K = 0\n",
        "  j = 0\n",
        "  for i in range(N_user - 1):\n",
        "    # valid neighbor는 40명까지 참고\n",
        "    if j > 40:\n",
        "      break\n",
        "    # 해당 영화 평점을 실제로 매긴 neighbor 유저만 취급\n",
        "    if movie_id in ratings[neighbors[user_id][i][0]]:\n",
        "      j += 1\n",
        "      nei_id = neighbors[user_id][i][0]\n",
        "      nei_sim = neighbors[user_id][i][1]\n",
        "      # 평점을 평균값 기준으로 가중 평균하는 공식(KNN with KMeans)\n",
        "      rating += (ratings[nei_id][movie_id] - means[nei_id]) * nei_sim\n",
        "      K += nei_sim\n",
        "  \n",
        "  if K != 0:\n",
        "    rating = means[user_id] + (rating / K)\n",
        "  else: # 유저 간 유사도가 0인 경우, 즉 현재 userId와 비슷한 유저가 1명도 없는 경우(가능성 小)\n",
        "    rating = -1\n",
        "  return rating"
      ],
      "execution_count": 13,
      "outputs": []
    },
    {
      "cell_type": "code",
      "metadata": {
        "colab": {
          "base_uri": "https://localhost:8080/"
        },
        "id": "MSLxX3UNMdl_",
        "outputId": "5f17b28a-2d75-4de3-b0dc-cbaa7f1f29c6"
      },
      "source": [
        "print(predict_rating(1, 1)) # movieId 1번에 대한 userId 1의 예측 평점\n",
        "print(predict_rating(1, 2))"
      ],
      "execution_count": 14,
      "outputs": [
        {
          "output_type": "stream",
          "name": "stdout",
          "text": [
            "4.483428238188908\n",
            "4.092429309764392\n"
          ]
        }
      ]
    },
    {
      "cell_type": "code",
      "metadata": {
        "id": "FhkdSmnwMfYG"
      },
      "source": [
        "# 테스트셋을 대상으로 평점 예측 지표 구하기\n",
        "def prediction(test_data):\n",
        "  test = test_data[['userId', 'movieId', 'rating']]\n",
        "  test = np.array(test)\n",
        "  \n",
        "  sqaure = 0\n",
        "  avg = 0 \n",
        "  # 1) RMSE, 2) MAE\n",
        "  # 평점을 부여한 사람만 에러를 구하는 것 -> 즉 평점을 부여하지 않은 아이템에 대해선 계산하지 않는다\n",
        "  for user_id, movie_id, rating in test:\n",
        "    sqaure += (predict_rating(user_id, movie_id) - rating) ** 2 # sum of (아이템의 예측 평점 - 아이템의 원래 평점) ** 2\n",
        "    avg += abs(predict_rating(user_id, movie_id) - rating)\n",
        "  return np.sqrt(sqaure / len(test)), avg/len(test)"
      ],
      "execution_count": 18,
      "outputs": []
    },
    {
      "cell_type": "code",
      "metadata": {
        "colab": {
          "base_uri": "https://localhost:8080/"
        },
        "id": "q3ee42ZBY6Z6",
        "outputId": "1c8a658b-c8a2-47a1-fc3a-1fa88ea450d6"
      },
      "source": [
        "rmse, mae = prediction(Val)\n",
        "print(\"RMSE: \", rmse) # rmmse가 상당히 높은데 참고한 블로그에선 약 0.98 -> 데이터셋의 형태가 매우 중요한 듯 보임(실제로 사용자 기반 협업 필터링은 데이터 영향을 많이 받음)\n",
        "print(\"MAE: \", mae)"
      ],
      "execution_count": 19,
      "outputs": [
        {
          "output_type": "stream",
          "name": "stdout",
          "text": [
            "RMSE:  66.25378438746938\n",
            "MAE:  1.5823782632689567\n"
          ]
        }
      ]
    },
    {
      "cell_type": "code",
      "metadata": {
        "id": "VQanWBYomB2p"
      },
      "source": [
        ""
      ],
      "execution_count": null,
      "outputs": []
    }
  ]
}